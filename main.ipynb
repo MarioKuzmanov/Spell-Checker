{
 "cells": [
  {
   "cell_type": "markdown",
   "source": [
    "<h1 align=\"center\"> Spell-Checker </h1>\n",
    "<h3 align=\"center\"> <b> built on FSTs </b> </h3>"
   ],
   "metadata": {
    "collapsed": false
   },
   "id": "c0058b4f531d9cd4"
  },
  {
   "cell_type": "code",
   "execution_count": 1,
   "id": "initial_id",
   "metadata": {
    "collapsed": true,
    "ExecuteTime": {
     "end_time": "2025-02-06T10:46:25.365731Z",
     "start_time": "2025-02-06T10:46:25.265732Z"
    }
   },
   "outputs": [],
   "source": [
    "from spell_fst import Spell_Checker"
   ]
  },
  {
   "cell_type": "code",
   "outputs": [
    {
     "name": "stdout",
     "output_type": "stream",
     "text": [
      "built fsa lexicon!\n",
      "lexicon ready...\n",
      "\n",
      "minimize lexicon!\n",
      "expected time: mm: 4.0, secs: 15\n",
      "%%%\n",
      "lexicon minimized...\n",
      "time taken: hh: 0.0, mm: 3.0, secs: 57.663\n",
      "\n",
      "build transducer on the lexicon!\n",
      "M1 ready...\n",
      "build misspellings transducer!\n",
      "M2 is ready...\n",
      "%%%\n",
      "\n",
      "compose lexicon with editfst!\n",
      "invert!\n",
      "spell-fst is ready to use...\n",
      "\n",
      "use `.fst.transduce` to see weighted spelling corrections...\n"
     ]
    }
   ],
   "source": [
    "spellchecker = Spell_Checker()"
   ],
   "metadata": {
    "collapsed": false,
    "ExecuteTime": {
     "end_time": "2025-02-06T10:50:27.624963Z",
     "start_time": "2025-02-06T10:46:27.862317Z"
    }
   },
   "id": "c770812cf799324d",
   "execution_count": 2
  },
  {
   "cell_type": "markdown",
   "source": [
    "### TOP-10 most probable corrections\n",
    "##### or all when they are < 10"
   ],
   "metadata": {
    "collapsed": false
   },
   "id": "bfd37cd617536ad2"
  },
  {
   "cell_type": "code",
   "outputs": [
    {
     "name": "stdout",
     "output_type": "stream",
     "text": [
      "entered word: gras\n",
      "candidate corrections...\n",
      "1. gas ~ 1.4120374275041925e-06\n",
      "2. grams ~ 7.554200760332514e-07\n",
      "3. grass ~ 6.597304936799217e-07\n",
      "4. grab ~ 1.4734318303041684e-09\n",
      "5. gray ~ 1.0060171668548778e-09\n"
     ]
    }
   ],
   "source": [
    "inword = 'gras'\n",
    "\n",
    "suggestions = sorted(set(list(spellchecker.fst.transduce(inword))), key=lambda x: x[1], reverse=True)\n",
    "\n",
    "n = 10 if 10 < len(suggestions) else len(suggestions)\n",
    "\n",
    "print(f'entered word: {inword}')\n",
    "print('candidate corrections...')\n",
    "for i in range(n):\n",
    "    candidate, prob = suggestions[i]\n",
    "    print(f'{i + 1}. {candidate} ~ {prob}')    "
   ],
   "metadata": {
    "collapsed": false,
    "ExecuteTime": {
     "end_time": "2025-02-06T10:51:43.068740Z",
     "start_time": "2025-02-06T10:51:43.057741Z"
    }
   },
   "id": "33575b7cdb37ccf9",
   "execution_count": 3
  },
  {
   "cell_type": "code",
   "outputs": [],
   "source": [],
   "metadata": {
    "collapsed": false
   },
   "id": "25dcfea7f5b19543"
  }
 ],
 "metadata": {
  "kernelspec": {
   "display_name": "Python 3",
   "language": "python",
   "name": "python3"
  },
  "language_info": {
   "codemirror_mode": {
    "name": "ipython",
    "version": 2
   },
   "file_extension": ".py",
   "mimetype": "text/x-python",
   "name": "python",
   "nbconvert_exporter": "python",
   "pygments_lexer": "ipython2",
   "version": "2.7.6"
  }
 },
 "nbformat": 4,
 "nbformat_minor": 5
}
