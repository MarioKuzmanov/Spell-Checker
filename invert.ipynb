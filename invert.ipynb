{
 "cells": [
  {
   "cell_type": "code",
   "execution_count": 47,
   "id": "initial_id",
   "metadata": {
    "collapsed": true,
    "ExecuteTime": {
     "end_time": "2025-01-18T18:30:25.828628Z",
     "start_time": "2025-01-18T18:30:25.808304Z"
    }
   },
   "outputs": [
    {
     "name": "stdout",
     "output_type": "stream",
     "text": [
      "{(0, 'w'): {('w', 1, 0)}, (1, 'a'): {('a', 2, 0)}, (2, 'l'): {('l', 3, 0)}, (3, 'k'): {('k', 11, 0), ('l', 11, 0)}, (11, 's'): {('s', 12, 0)}, (3, 'l'): set(), (2, 'n'): {('n', 4, 0)}, (4, 't'): {('t', 11, 0)}, (1, 'o'): {('o', 6, 0)}, (6, 'r'): {('r', 7, 0)}, (7, 'k'): {('k', 11, 0)}, (0, 'f'): {('f', 8, 0)}, (8, 'o'): {('o', 5, 0)}, (5, 'r'): {('r', 9, 0)}, (9, 'k'): {('k', 10, 0)}, (10, 's'): {('s', 12, 0)}, (3, 'r'): {('l', 12, 0)}}\n"
     ]
    }
   ],
   "source": [
    "d1 = {(0, 'w'): {('w', 1, 0)}, (1, 'a'): {('a', 2, 0)}, (2, 'l'): {('l', 3, 0)}, (3, 'k'): {('k', 11, 0)},\n",
    "      (11, 's'): {('s', 12, 0)}, (3, 'l'): {('k', 11, 0), ('r', 12, 0)}, (2, 'n'): {('n', 4, 0)},\n",
    "      (4, 't'): {('t', 11, 0)},\n",
    "      (1, 'o'): {('o', 6, 0)}, (6, 'r'): {('r', 7, 0)}, (7, 'k'): {('k', 11, 0)}, (0, 'f'): {('f', 8, 0)},\n",
    "      (8, 'o'): {('o', 5, 0)}, (5, 'r'): {('r', 9, 0)}, (9, 'k'): {('k', 10, 0)}, (10, 's'): {('s', 12, 0)}}\n",
    "d2 = d1.copy()\n",
    "\n",
    "for (st1, sym1), tranductions in d2.items():\n",
    "    to_remove = []\n",
    "    for sym2, st2, w in tranductions:\n",
    "        if sym1 != sym2:\n",
    "            to_remove.append((sym2, st2, w))\n",
    "            new_k = (st1, sym2)\n",
    "            if new_k not in d1:\n",
    "                d1[new_k] = {(sym1, st2, w)}\n",
    "            else:\n",
    "                d1[new_k].add((sym1, st2, w))\n",
    "                \n",
    "    for tr in to_remove:\n",
    "        tranductions.remove(tr)\n",
    "        \n",
    "    if tranductions == {}:\n",
    "        d1.pop((st1, sym1))\n",
    "\n",
    "print(d1)\n"
   ]
  },
  {
   "cell_type": "code",
   "outputs": [],
   "source": [],
   "metadata": {
    "collapsed": false
   },
   "id": "b3b1814cca8745dd"
  }
 ],
 "metadata": {
  "kernelspec": {
   "display_name": "Python 3",
   "language": "python",
   "name": "python3"
  },
  "language_info": {
   "codemirror_mode": {
    "name": "ipython",
    "version": 2
   },
   "file_extension": ".py",
   "mimetype": "text/x-python",
   "name": "python",
   "nbconvert_exporter": "python",
   "pygments_lexer": "ipython2",
   "version": "2.7.6"
  }
 },
 "nbformat": 4,
 "nbformat_minor": 5
}
